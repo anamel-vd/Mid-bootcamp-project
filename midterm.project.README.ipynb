{
 "cells": [
  {
   "cell_type": "markdown",
   "id": "18fa6648",
   "metadata": {},
   "source": [
    "# Data Analytics Mid-bootcamp Project"
   ]
  },
  {
   "cell_type": "markdown",
   "id": "c2b0372b",
   "metadata": {},
   "source": [
    "** Team: Ana Melissa Valladares and Ettore Roberto Capone"
   ]
  },
  {
   "cell_type": "markdown",
   "id": "c353abbe",
   "metadata": {},
   "source": [
    "### Business Intelligence Project: Obesity classification for nutrition programs creation\n",
    "\n",
    "#### Introduction\n",
    "\n",
    "This README file provides an overview of a Business Intelligence (BI) project plan focused on the classification of obesity levels in individuals from Mexico, Peru, and Colombia. The dataset used for this project consists of 17 attributes and 2111 records, with labels assigned to the class variable NObesity, enabling the classification into categories such as Insufficient Weight, Normal Weight, Overweight Level I, Overweight Level II, Obesity Type I, Obesity Type II, and Obesity Type III.\n",
    "\n",
    "#### Dataset Information\n",
    "\n",
    "- Multivariate: dataset involves observations or samples with more than one variable or feature. \n",
    "- Subject Area: health and medicine.\n",
    "- Feature Type: integer.\n",
    "\n",
    "#### Project Objectives\n",
    "\n",
    "The primary objectives of this BI project are as follows:\n",
    "\n",
    "- Obesity Classification: Establish obesity levels based on individuals' eating habits and physical condition.\n",
    "\n",
    "- Data Exploration: Conduct exploratory data analysis (EDA) to gain insights into the distribution, patterns, and relationships within the dataset.\n",
    "\n",
    "- Visualization: Implement a visualization tool to present the insights.\n",
    "\n",
    "#### Data Source and Composition\n",
    "\n",
    "The dataset is a combination of synthetic data generated using the Weka tool and the Synthetic Minority Over-sampling Technique (SMOTE) filter (77%), along with direct data collected from users through a web platform (23%).\n"
   ]
  },
  {
   "cell_type": "markdown",
   "id": "c0ce6364",
   "metadata": {},
   "source": [
    "Dataset URL: https://archive.ics.uci.edu/dataset/544/estimation+of+obesity+levels+based+on+eating+habits+and+physical+condition"
   ]
  },
  {
   "cell_type": "code",
   "execution_count": null,
   "id": "f5cc0f29",
   "metadata": {},
   "outputs": [],
   "source": []
  }
 ],
 "metadata": {
  "kernelspec": {
   "display_name": "Python 3 (ipykernel)",
   "language": "python",
   "name": "python3"
  },
  "language_info": {
   "codemirror_mode": {
    "name": "ipython",
    "version": 3
   },
   "file_extension": ".py",
   "mimetype": "text/x-python",
   "name": "python",
   "nbconvert_exporter": "python",
   "pygments_lexer": "ipython3",
   "version": "3.11.5"
  }
 },
 "nbformat": 4,
 "nbformat_minor": 5
}
