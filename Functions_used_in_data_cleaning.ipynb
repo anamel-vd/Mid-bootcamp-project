{
 "cells": [
  {
   "cell_type": "markdown",
   "id": "161b88aa",
   "metadata": {},
   "source": [
    "<div style=\"text-align:center; color:green; font-size:27px;\">\n",
    "    Functions used for data cleaning\n",
    "</div>"
   ]
  },
  {
   "cell_type": "markdown",
   "id": "a1ff1e5d",
   "metadata": {},
   "source": [
    "** Team:Ana Melissa Valladares and Ettore Capone"
   ]
  },
  {
   "cell_type": "code",
   "execution_count": 2,
   "id": "eb22b44c",
   "metadata": {},
   "outputs": [],
   "source": [
    "import matplotlib.pyplot as plt\n",
    "import seaborn as sns\n",
    "\n",
    "def explore_data(data):\n",
    "    \n",
    "    # Display basic information about the DataFrame\n",
    "    print(\"DataFrame Information:\")\n",
    "    print(data.info())\n",
    "\n",
    "    # Display summary statistics for numerical columns\n",
    "    print(\"\\nSummary Statistics:\")\n",
    "    print(data.describe())\n",
    "\n",
    "    # Display the first few rows of the DataFrame\n",
    "    print(\"\\nFirst Few Rows:\")\n",
    "    print(data.head())\n",
    "\n",
    "    # Display the count of missing values in each column\n",
    "    print(\"\\nMissing Values:\")\n",
    "    print(data.isnull().sum())\n",
    "\n",
    "    # Visualize the distribution of numerical columns\n",
    "    print(\"\\nDistribution of Numerical Columns:\")\n",
    "    numerical_columns = data.select_dtypes(include=['float64', 'int64']).columns\n",
    "    for column in numerical_columns:\n",
    "        plt.figure(figsize=(8, 5))\n",
    "        sns.histplot(data[column], kde=True)\n",
    "        plt.title(f'Distribution of {column}')\n",
    "        plt.show()\n",
    "\n",
    "    # Visualize the count of categorical values\n",
    "    print(\"\\nCount of Categorical Values:\")\n",
    "    categorical_columns = data.select_dtypes(include='object').columns\n",
    "    for column in categorical_columns:\n",
    "        plt.figure(figsize=(8, 5))\n",
    "        sns.countplot(data[column])\n",
    "        plt.title(f'Count of {column}')\n",
    "        plt.show()\n"
   ]
  },
  {
   "cell_type": "code",
   "execution_count": 3,
   "id": "efb9a9ab",
   "metadata": {},
   "outputs": [],
   "source": [
    "def round_column_to_whole_number(df, column):\n",
    "    \n",
    "    def round_to_whole_number(value):\n",
    "        if pd.notna(value):\n",
    "            return round(value)\n",
    "        else:\n",
    "            return value\n",
    "\n",
    "    df[column] = df[column].apply(round_to_whole_number)\n",
    "    return df"
   ]
  },
  {
   "cell_type": "code",
   "execution_count": 4,
   "id": "26910ea5",
   "metadata": {},
   "outputs": [],
   "source": [
    "def round_column_to_second_decimal(df, column):\n",
    "\n",
    "    def round_to_second_decimal(value):\n",
    "        if pd.notna(value):\n",
    "            return round(value, 2)\n",
    "        else:\n",
    "            return value\n",
    "\n",
    "    df[column] = df[column].apply(round_to_second_decimal)\n",
    "    return df"
   ]
  },
  {
   "cell_type": "code",
   "execution_count": null,
   "id": "b93561b0",
   "metadata": {},
   "outputs": [],
   "source": []
  }
 ],
 "metadata": {
  "kernelspec": {
   "display_name": "Python 3 (ipykernel)",
   "language": "python",
   "name": "python3"
  },
  "language_info": {
   "codemirror_mode": {
    "name": "ipython",
    "version": 3
   },
   "file_extension": ".py",
   "mimetype": "text/x-python",
   "name": "python",
   "nbconvert_exporter": "python",
   "pygments_lexer": "ipython3",
   "version": "3.11.5"
  }
 },
 "nbformat": 4,
 "nbformat_minor": 5
}
